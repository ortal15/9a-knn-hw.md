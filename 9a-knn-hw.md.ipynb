{
 "cells": [
  {
   "cell_type": "code",
   "execution_count": 6,
   "id": "6b9569fe-b790-4212-ab51-36930ee449d2",
   "metadata": {},
   "outputs": [
    {
     "name": "stdout",
     "output_type": "stream",
     "text": [
      "Prediction: The new customer will repay his loan? - no\n",
      "Probabilities: [[0.66666667 0.33333333]]\n"
     ]
    },
    {
     "name": "stderr",
     "output_type": "stream",
     "text": [
      "C:\\Users\\Ortal\\anaconda3\\Lib\\site-packages\\sklearn\\model_selection\\_split.py:776: UserWarning: The least populated class in y has only 4 members, which is less than n_splits=5.\n",
      "  warnings.warn(\n"
     ]
    },
    {
     "name": "stdout",
     "output_type": "stream",
     "text": [
      "Best parameters: {'metric': 'euclidean', 'n_neighbors': 2, 'weights': 'uniform'}\n",
      "Best score: 0.9\n"
     ]
    },
    {
     "name": "stderr",
     "output_type": "stream",
     "text": [
      "C:\\Users\\Ortal\\anaconda3\\Lib\\site-packages\\sklearn\\model_selection\\_search.py:1102: UserWarning: One or more of the test scores are non-finite: [0.8 0.8 0.9 0.8 0.9 0.9 0.8 0.9 0.8 0.9 0.8 0.8 0.5 0.9 0.4 0.8 nan nan\n",
      " nan nan nan nan nan nan nan nan nan nan nan nan nan nan nan nan nan nan\n",
      " nan nan nan nan nan nan nan nan nan nan nan nan nan nan nan nan nan nan\n",
      " nan nan nan nan nan nan nan nan 0.9 0.9 0.9 0.9 0.9 0.9 nan 0.9 nan 0.9\n",
      " nan 0.8 nan 0.9 nan 0.9 nan nan nan nan nan nan nan nan nan nan nan nan\n",
      " nan nan nan nan nan nan nan nan nan nan nan nan nan nan nan nan nan nan\n",
      " nan nan nan nan nan nan nan nan nan nan nan nan nan nan nan nan]\n",
      "  warnings.warn(\n"
     ]
    }
   ],
   "source": [
    "import numpy as np\n",
    "import matplotlib.pyplot as plt\n",
    "from sklearn.model_selection import GridSearchCV\n",
    "from sklearn.neighbors import KNeighborsClassifier\n",
    "from sklearn.preprocessing import MinMaxScaler\n",
    "from sklearn.model_selection import train_test_split\n",
    "from sklearn.metrics import accuracy_score, classification_report\n",
    "\n",
    "# data\n",
    "age = np.array([ 22,25,30,35,42,50,23,28,33,48])\n",
    "year_income = np.array([60,75,80,120,150,110,95,90,105,135])\n",
    "credit_seniority = np.array([1,2,3,5,8,10,1,2,4,9])\n",
    "return_loan = np.array(['no','no','yes','yes','yes','yes','no','no','yes','yes'])\n",
    "\n",
    "# Create feature matrix\n",
    "X = np.column_stack((age,year_income,credit_seniority))\n",
    "y = return_loan\n",
    "\n",
    "#1:תקנן את הנתונים באמצעות נרמול Min-Max\n",
    "# Normalize data\n",
    "scaler = MinMaxScaler()\n",
    "X_scaled = scaler.fit_transform(X)\n",
    "\n",
    "#2:השתמש באלגוריתם KNN עם K=3 לניבוי האם לקוח חדש בגיל 27, עם הכנסה שנתית של 95 אלפי ₪ וותק אשראי של 3 שנים, יחזיר את ההלוואה שלו.\n",
    "# Train the KNN model\n",
    "k = 3  # number of neighbors\n",
    "model = KNeighborsClassifier(n_neighbors=k)\n",
    "model.fit(X_scaled, y)\n",
    "\n",
    "# New data to classify\n",
    "new_data = np.array([[27,95,3]])\n",
    "new_data_scaled = scaler.transform(new_data)\n",
    "prediction = model.predict(new_data_scaled)\n",
    "probabilities = model.predict_proba(new_data_scaled)\n",
    "\n",
    "# Output result\n",
    "print(f\"Prediction: The new customer will repay his loan? - {prediction[0]}\")\n",
    "print(f\"Probabilities: {probabilities}\")\n",
    "\n",
    "#3:השתמש ב GRID SEARCH CV ובדוק מה מהפרמטרים הבאים יניב את התוצאות הטובות ביותר:\n",
    "#n_neighbors: 1-31\n",
    "#weights: [uniform, distance]\n",
    "#metric: [euclidean, manhattan]\n",
    "\n",
    "#Defining the range of parameters we will test\n",
    "param_grid = {\n",
    "    \"n_neighbors\": list(range(1, 32)), \n",
    "    \"weights\": [\"uniform\", \"distance\"],\n",
    "    \"metric\": [\"euclidean\", \"manhattan\"] \n",
    "}\n",
    "\n",
    "#Using GridSearchCV\n",
    "grid = GridSearchCV(\n",
    "    estimator=KNeighborsClassifier(),\n",
    "    param_grid=param_grid,\n",
    "    cv=5,            \n",
    "    scoring=\"accuracy\",\n",
    "    n_jobs=-1         \n",
    ")\n",
    "\n",
    "# Training\n",
    "grid.fit(X_scaled, y)\n",
    "\n",
    "# Results\n",
    "print(\"Best parameters:\", grid.best_params_)\n",
    "print(\"Best score:\", grid.best_score_)"
   ]
  }
 ],
 "metadata": {
  "kernelspec": {
   "display_name": "Python [conda env:base] *",
   "language": "python",
   "name": "conda-base-py"
  },
  "language_info": {
   "codemirror_mode": {
    "name": "ipython",
    "version": 3
   },
   "file_extension": ".py",
   "mimetype": "text/x-python",
   "name": "python",
   "nbconvert_exporter": "python",
   "pygments_lexer": "ipython3",
   "version": "3.12.7"
  }
 },
 "nbformat": 4,
 "nbformat_minor": 5
}
